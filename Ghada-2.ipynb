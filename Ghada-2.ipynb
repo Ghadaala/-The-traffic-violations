{
 "cells": [
  {
   "cell_type": "markdown",
   "id": "852a60a1-45a6-4f8b-a206-1ccea81c5bc2",
   "metadata": {},
   "source": [
    "### <font color = green>Question 3 </font>"
   ]
  },
  {
   "cell_type": "markdown",
   "id": "ec737fd5-149b-41b0-ace8-1a6f49e90f3d",
   "metadata": {},
   "source": [
    "T explore the 'traffic_violaions.csv' dataset, I dveloped this python code. \n",
    "At the last part of this code, the 'KeyError' asrised, because the 'country name' column has no-data\"Empty\", so Python cannot deal with.\n"
   ]
  },
  {
   "cell_type": "code",
   "execution_count": 3,
   "id": "86c30e8a-95f5-45c9-9b3a-98e0f505fb5c",
   "metadata": {},
   "outputs": [
    {
     "name": "stdout",
     "output_type": "stream",
     "text": [
      "Dataset loaded successfully!\n"
     ]
    }
   ],
   "source": [
    "import pandas as pd\n",
    "\n",
    "# Load dataset\n",
    "new_file_path = r\"C:\\Users\\galam\\OneDrive\\Desktop\\GhadaALamoudi-TMA351\\data\\traffic_violaions.csv\"\n",
    "\n",
    "try:\n",
    "    df = pd.read_csv(new_file_path)\n",
    "    print(\"Dataset loaded successfully!\")\n",
    "except FileNotFoundError:\n",
    "    print(f\"File not found at: {new_file_path}\")\n",
    "    df = None\n",
    "except Exception as e:\n",
    "    print(f\"Error occurred: {str(e)}\")\n",
    "    df = None\n",
    "\n"
   ]
  },
  {
   "cell_type": "code",
   "execution_count": 4,
   "id": "3bfc8580-0aaa-4aa9-b9e5-b03810b9d9fc",
   "metadata": {},
   "outputs": [
    {
     "name": "stdout",
     "output_type": "stream",
     "text": [
      "<class 'pandas.core.frame.DataFrame'>\n",
      "RangeIndex: 52966 entries, 0 to 52965\n",
      "Data columns (total 15 columns):\n",
      " #   Column              Non-Null Count  Dtype  \n",
      "---  ------              --------------  -----  \n",
      " 0   stop_date           52966 non-null  object \n",
      " 1   stop_time           52965 non-null  object \n",
      " 2   country_name        0 non-null      float64\n",
      " 3   driver_gender       49580 non-null  object \n",
      " 4   driver_age_raw      49588 non-null  float64\n",
      " 5   driver_age          49346 non-null  float64\n",
      " 6   driver_race         49581 non-null  object \n",
      " 7   violation_raw       49581 non-null  object \n",
      " 8   violation           49581 non-null  object \n",
      " 9   search_conducted    52965 non-null  object \n",
      " 10  search_type         2085 non-null   object \n",
      " 11  stop_outcome        49581 non-null  object \n",
      " 12  is_arrested         49581 non-null  object \n",
      " 13  stop_duration       49581 non-null  object \n",
      " 14  drugs_related_stop  52965 non-null  object \n",
      "dtypes: float64(3), object(12)\n",
      "memory usage: 6.1+ MB\n",
      "None\n"
     ]
    }
   ],
   "source": [
    "# Display basic information about the dataset\n",
    "if df is not None:\n",
    "    print(df.info())\n",
    "else:\n",
    "    print(\"Dataset is not loaded. Check previous cells for errors.\")\n",
    "\n"
   ]
  },
  {
   "cell_type": "code",
   "execution_count": 5,
   "id": "d3676eff-32d9-40bf-941c-5daf591bdfad",
   "metadata": {},
   "outputs": [
    {
     "name": "stdout",
     "output_type": "stream",
     "text": [
      "Missing values per column:\n",
      " stop_date                 0\n",
      "stop_time                 1\n",
      "country_name          52966\n",
      "driver_gender          3386\n",
      "driver_age_raw         3378\n",
      "driver_age             3620\n",
      "driver_race            3385\n",
      "violation_raw          3385\n",
      "violation              3385\n",
      "search_conducted          1\n",
      "search_type           50881\n",
      "stop_outcome           3385\n",
      "is_arrested            3385\n",
      "stop_duration          3385\n",
      "drugs_related_stop        1\n",
      "dtype: int64\n"
     ]
    }
   ],
   "source": [
    "\n",
    "# Check for missing values\n",
    "if df is not None:\n",
    "    missing_values = df.isnull().sum()\n",
    "    print(\"Missing values per column:\\n\", missing_values)\n",
    "else:\n",
    "    print(\"Dataset is not loaded. Check previous cells for errors.\")\n"
   ]
  },
  {
   "cell_type": "code",
   "execution_count": 6,
   "id": "a714a7d0-7fb6-4b8d-bbed-0641997a6955",
   "metadata": {},
   "outputs": [
    {
     "name": "stdout",
     "output_type": "stream",
     "text": [
      "Unique values in country_name: [nan]\n",
      "Unique values in driver_gender: ['M' 'F' nan]\n",
      "Unique values in driver_race: ['White' 'Black' 'Asian' nan 'Hispanic' 'Other']\n",
      "Unique values in violation: ['Speeding' 'Other' 'Equipment' 'Moving violation' nan\n",
      " 'Registration/plates']\n",
      "Unique values in stop_outcome: ['Citation' 'Arrest Driver' nan 'N/D' 'Warning' 'Arrest Passenger'\n",
      " 'No Action']\n",
      "Unique values in is_arrested: [False True nan]\n",
      "Unique values in drugs_related_stop: [False True nan]\n"
     ]
    }
   ],
   "source": [
    "\n",
    "# Check for unique values in categorical columns\n",
    "if df is not None:\n",
    "    categorical_columns = ['country_name', 'driver_gender', 'driver_race', 'violation', 'stop_outcome', 'is_arrested', 'drugs_related_stop']\n",
    "    for col in categorical_columns:\n",
    "        print(f\"Unique values in {col}: {df[col].unique()}\")\n",
    "else:\n",
    "    print(\"Dataset is not loaded. Check previous cells for errors.\")\n",
    "\n"
   ]
  },
  {
   "cell_type": "code",
   "execution_count": null,
   "id": "31d32d11-f9c0-4008-90a6-22807be66593",
   "metadata": {},
   "outputs": [],
   "source": []
  }
 ],
 "metadata": {
  "kernelspec": {
   "display_name": "Python 3 (ipykernel)",
   "language": "python",
   "name": "python3"
  },
  "language_info": {
   "codemirror_mode": {
    "name": "ipython",
    "version": 3
   },
   "file_extension": ".py",
   "mimetype": "text/x-python",
   "name": "python",
   "nbconvert_exporter": "python",
   "pygments_lexer": "ipython3",
   "version": "3.12.3"
  }
 },
 "nbformat": 4,
 "nbformat_minor": 5
}
