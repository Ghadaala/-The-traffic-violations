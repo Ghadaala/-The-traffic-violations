{
 "cells": [
  {
   "cell_type": "markdown",
   "id": "de223dc4-ae31-4274-b23c-ab5013aa90cf",
   "metadata": {},
   "source": [
    "### <font color=purple> Question 4: Theory </font>"
   ]
  },
  {
   "cell_type": "markdown",
   "id": "7ddb363c-e249-412a-bac3-f4f6459dd012",
   "metadata": {},
   "source": [
    "To answer this question I collect the dataset over the Kaggle website. This 'Predadditionaline Course Engagement Dataset' describes the understanding of user behavior during online course completion.\n",
    "\n",
    "I developed two copies of this code; one  in the  IDLE as Python script, and the  additional  one  here on the jupyter notebeek.\n",
    "At primary time to run this code, the error arsised in the cell of (#load the dataset), caused by the error occurs because backslashes in the file path were interpreted as escape characters. So, and to  fix this error I just add the 'r': using raw string literals by prefix with the tring'r', and it is solved."
   ]
  },
  {
   "cell_type": "code",
   "execution_count": 1,
   "id": "c995aaed-bab0-4675-8b87-2551b15fcef1",
   "metadata": {},
   "outputs": [],
   "source": [
    "import pandas as pd"
   ]
  },
  {
   "cell_type": "code",
   "execution_count": 4,
   "id": "662ee053-4db8-4b76-863e-c1d1e590e206",
   "metadata": {},
   "outputs": [],
   "source": [
    "#load the dataset\n",
    "file_path= r\"C:\\Users\\galam\\Downloads\\archive (1)\\online_course_engagement_data.csv\"\n",
    "df = pd.read_csv(file_path)"
   ]
  },
  {
   "cell_type": "code",
   "execution_count": 5,
   "id": "7212c6bf-cbe3-489a-976e-04f324369733",
   "metadata": {},
   "outputs": [
    {
     "name": "stdout",
     "output_type": "stream",
     "text": [
      "shape of the dataset: (9000, 9)\n"
     ]
    }
   ],
   "source": [
    "#1. code for the datsset shape\n",
    "shape = df.shape\n",
    "print(f\"shape of the dataset: {shape}\")"
   ]
  },
  {
   "cell_type": "code",
   "execution_count": 6,
   "id": "f9eea655-c470-4422-b1f4-344a86875593",
   "metadata": {},
   "outputs": [
    {
     "name": "stdout",
     "output_type": "stream",
     "text": [
      "\n",
      "Information about the dataset:\n",
      "<class 'pandas.core.frame.DataFrame'>\n",
      "RangeIndex: 9000 entries, 0 to 8999\n",
      "Data columns (total 9 columns):\n",
      " #   Column                 Non-Null Count  Dtype  \n",
      "---  ------                 --------------  -----  \n",
      " 0   UserID                 9000 non-null   int64  \n",
      " 1   CourseCategory         9000 non-null   object \n",
      " 2   TimeSpentOnCourse      9000 non-null   float64\n",
      " 3   NumberOfVideosWatched  9000 non-null   int64  \n",
      " 4   NumberOfQuizzesTaken   9000 non-null   int64  \n",
      " 5   QuizScores             9000 non-null   float64\n",
      " 6   CompletionRate         9000 non-null   float64\n",
      " 7   DeviceType             9000 non-null   int64  \n",
      " 8   CourseCompletion       9000 non-null   int64  \n",
      "dtypes: float64(3), int64(5), object(1)\n",
      "memory usage: 632.9+ KB\n"
     ]
    }
   ],
   "source": [
    "#2. Provide information about the dataset\n",
    "print(\"\\nInformation about the dataset:\")\n",
    "info = df.info()"
   ]
  },
  {
   "cell_type": "code",
   "execution_count": 7,
   "id": "8a1649fe-6e5b-413d-9a8f-28856e0a415c",
   "metadata": {},
   "outputs": [
    {
     "name": "stdout",
     "output_type": "stream",
     "text": [
      "\n",
      "Statistical summary of the dataset:\n",
      "            UserID  TimeSpentOnCourse  NumberOfVideosWatched  \\\n",
      "count  9000.000000        9000.000000            9000.000000   \n",
      "mean   4498.894556          50.163822              10.024667   \n",
      "std    2596.849433          28.491750               6.029878   \n",
      "min       1.000000           1.005230               0.000000   \n",
      "25%    2251.750000          25.440548               5.000000   \n",
      "50%    4483.500000          49.818417              10.000000   \n",
      "75%    6751.250000          75.069924              15.000000   \n",
      "max    9000.000000          99.992558              20.000000   \n",
      "\n",
      "       NumberOfQuizzesTaken   QuizScores  CompletionRate   DeviceType  \\\n",
      "count           9000.000000  9000.000000     9000.000000  9000.000000   \n",
      "mean               5.090556    74.706028       50.340146     0.500667   \n",
      "std                3.157762    14.378383       28.950977     0.500027   \n",
      "min                0.000000    50.005119        0.009327     0.000000   \n",
      "25%                2.000000    62.283451       25.653614     0.000000   \n",
      "50%                5.000000    74.743294       50.264124     1.000000   \n",
      "75%                8.000000    87.022663       75.572493     1.000000   \n",
      "max               10.000000    99.994984       99.979711     1.000000   \n",
      "\n",
      "       CourseCompletion  \n",
      "count       9000.000000  \n",
      "mean           0.396444  \n",
      "std            0.489186  \n",
      "min            0.000000  \n",
      "25%            0.000000  \n",
      "50%            0.000000  \n",
      "75%            1.000000  \n",
      "max            1.000000  \n"
     ]
    }
   ],
   "source": [
    "#3.Provide statistical summary of the dataset\n",
    "print(\"\\nStatistical summary of the dataset:\")\n",
    "summary = df.describe()\n",
    "print(summary)"
   ]
  },
  {
   "cell_type": "code",
   "execution_count": 10,
   "id": "61b32f53-f980-4bb0-8735-8f90ae7b3f63",
   "metadata": {},
   "outputs": [
    {
     "name": "stdout",
     "output_type": "stream",
     "text": [
      "\n",
      "Pairwise correlation of all columns:\n",
      "                         UserID  TimeSpentOnCourse  NumberOfVideosWatched  \\\n",
      "UserID                 1.000000           0.009134               0.018368   \n",
      "TimeSpentOnCourse      0.009134           1.000000               0.019833   \n",
      "NumberOfVideosWatched  0.018368           0.019833               1.000000   \n",
      "NumberOfQuizzesTaken  -0.001164          -0.012562              -0.020059   \n",
      "QuizScores            -0.010824          -0.006152              -0.017497   \n",
      "CompletionRate        -0.006239           0.020934               0.016257   \n",
      "DeviceType             0.006026           0.004144               0.007403   \n",
      "CourseCompletion       0.021093           0.182553               0.234360   \n",
      "\n",
      "                       NumberOfQuizzesTaken  QuizScores  CompletionRate  \\\n",
      "UserID                            -0.001164   -0.010824       -0.006239   \n",
      "TimeSpentOnCourse                 -0.012562   -0.006152        0.020934   \n",
      "NumberOfVideosWatched             -0.020059   -0.017497        0.016257   \n",
      "NumberOfQuizzesTaken               1.000000   -0.012295        0.006892   \n",
      "QuizScores                        -0.012295    1.000000       -0.012303   \n",
      "CompletionRate                     0.006892   -0.012303        1.000000   \n",
      "DeviceType                         0.015973    0.004225       -0.004767   \n",
      "CourseCompletion                   0.284504    0.299983        0.326139   \n",
      "\n",
      "                       DeviceType  CourseCompletion  \n",
      "UserID                   0.006026          0.021093  \n",
      "TimeSpentOnCourse        0.004144          0.182553  \n",
      "NumberOfVideosWatched    0.007403          0.234360  \n",
      "NumberOfQuizzesTaken     0.015973          0.284504  \n",
      "QuizScores               0.004225          0.299983  \n",
      "CompletionRate          -0.004767          0.326139  \n",
      "DeviceType               1.000000          0.007551  \n",
      "CourseCompletion         0.007551          1.000000  \n"
     ]
    }
   ],
   "source": [
    "#4. Find the pairwise correlation of all columns in the data frame\n",
    "#Exclude non-numeric columns\n",
    "numeric_df = df.select_dtypes(include=['float64', 'int64'])\n",
    "correlation = numeric_df.corr()\n",
    "print(\"\\nPairwise correlation of all columns:\")\n",
    "print(correlation)"
   ]
  },
  {
   "cell_type": "code",
   "execution_count": null,
   "id": "4a24a389-251b-4977-b755-5458a803fc34",
   "metadata": {},
   "outputs": [],
   "source": []
  }
 ],
 "metadata": {
  "kernelspec": {
   "display_name": "Python 3 (ipykernel)",
   "language": "python",
   "name": "python3"
  },
  "language_info": {
   "codemirror_mode": {
    "name": "ipython",
    "version": 3
   },
   "file_extension": ".py",
   "mimetype": "text/x-python",
   "name": "python",
   "nbconvert_exporter": "python",
   "pygments_lexer": "ipython3",
   "version": "3.12.1"
  }
 },
 "nbformat": 4,
 "nbformat_minor": 5
}
